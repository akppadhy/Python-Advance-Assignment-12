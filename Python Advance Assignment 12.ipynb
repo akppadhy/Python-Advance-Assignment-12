{
 "cells": [
  {
   "cell_type": "code",
   "execution_count": null,
   "id": "d60ccebc-f75c-4b5b-969a-633196425932",
   "metadata": {},
   "outputs": [],
   "source": [
    "#1. Does assigning a value to a string's indexed character violate Python's string immutability ?\n",
    "\n",
    "Ans. String’s indexed character cannot to be assigned a New value , as Strings are immutable."
   ]
  },
  {
   "cell_type": "code",
   "execution_count": null,
   "id": "c8f9da81-f19a-41fa-a967-f52f82acf23d",
   "metadata": {},
   "outputs": [],
   "source": [
    "#2. Does using the += operator to concatenate strings violate Python's string immutability? Why or why not ?\n",
    "\n",
    "Ans. += operator is used to concatenate strings, it does not violate Python’s string immutability Property. \n",
    "Because doing so new creates a new association with data and variable. \n",
    "E.g. str_1=\"a\" and str_1+=\"b. effect of this statements to create string ab and reassign it to variable str_1, any string data is not actually modified."
   ]
  },
  {
   "cell_type": "code",
   "execution_count": null,
   "id": "c4ebc46b-a079-4e1c-9d6d-ca912e43e879",
   "metadata": {},
   "outputs": [],
   "source": [
    "#3. In Python, how many different ways are there to index a character?\n",
    "\n",
    "Ans. A Character in string can be indexed using string name followed by index number of character in square bracket. \n",
    "Positive Indexing i.e. first index is 0 an so on, or Negative Indexing i.e. last letter is -1 and so on can be used to index a character"
   ]
  },
  {
   "cell_type": "code",
   "execution_count": null,
   "id": "0c6b89c8-ed6c-4581-845d-f6b5890026b2",
   "metadata": {},
   "outputs": [],
   "source": [
    "#4. What is the relationship between indexing and slicing?\n",
    "\n",
    "Ans. We can access elements of sequence datatypes by using slicing and indexing. \n",
    "Indexing is used to obtaining individual element while slicing for sequence of elements."
   ]
  },
  {
   "cell_type": "code",
   "execution_count": null,
   "id": "ab4e4cc0-b134-49b6-96a8-e6ca84372bc1",
   "metadata": {},
   "outputs": [],
   "source": [
    "#5. What is an indexed character's exact data type? What is the data form of a slicing-generated substring?\n",
    "\n",
    "Ans. Indexed characters and sliced substrings have datatype String."
   ]
  },
  {
   "cell_type": "code",
   "execution_count": null,
   "id": "6a9545e7-fdee-4377-8aae-094dd48979d8",
   "metadata": {},
   "outputs": [],
   "source": [
    "#6. What is the relationship between string and character \"types\" in Python?\n",
    "\n",
    "Ans. Object that contains sequence of character datatypes are called String."
   ]
  },
  {
   "cell_type": "code",
   "execution_count": null,
   "id": "715ce1ab-f308-4416-a9ed-a541e8caad22",
   "metadata": {},
   "outputs": [],
   "source": [
    "#7. Identify at least two operators & one method that allow you to combine one or more smaller strings to create a larger string ?\n",
    "\n",
    "Ans. +, += and * allow to combine one or more smaller strings to create a larger string. <string>.join(<sep>) method joins element of\n",
    "iterable type like list and tuple to get a combined string."
   ]
  },
  {
   "cell_type": "code",
   "execution_count": null,
   "id": "5465a75f-d63c-4cca-bc3c-14653622640c",
   "metadata": {},
   "outputs": [],
   "source": [
    "#8. What is the benefit of first checking the target string with in or not in before using the index method to find a substring ?\n",
    "\n",
    "Ans. Checking the target string with in or not Operators before using the index method to find a substring just helps confirming \n",
    "availability of substring and thus avoid raising of ValueError."
   ]
  },
  {
   "cell_type": "code",
   "execution_count": null,
   "id": "d0670e0b-6e5c-4ba9-af61-07b9b646fe47",
   "metadata": {},
   "outputs": [],
   "source": [
    "#9. Which operators and built-in string methods produce simple Boolean (true/false) results?\n",
    "\n",
    "Ans. The String Operators and built-in methods to Produce Simple Boolean (True/False) Results are:\n",
    "\n",
    "*in\n",
    "*not\n",
    "*<string>.isalpha()\n",
    "*<string>.isalnum()\n",
    "*<string>.isdecimal()\n",
    "*<string>.isdigit()\n",
    "*<string>.islower()\n",
    "*<string>.isnumeric()\n",
    "*<string>.isprintable()\n",
    "*<string>.isspace()\n",
    "*<string>.istitle()"
   ]
  }
 ],
 "metadata": {
  "kernelspec": {
   "display_name": "Python 3 (ipykernel)",
   "language": "python",
   "name": "python3"
  },
  "language_info": {
   "codemirror_mode": {
    "name": "ipython",
    "version": 3
   },
   "file_extension": ".py",
   "mimetype": "text/x-python",
   "name": "python",
   "nbconvert_exporter": "python",
   "pygments_lexer": "ipython3",
   "version": "3.10.6"
  }
 },
 "nbformat": 4,
 "nbformat_minor": 5
}
